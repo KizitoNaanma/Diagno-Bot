{
 "cells": [
  {
   "cell_type": "code",
   "execution_count": 3,
   "metadata": {},
   "outputs": [
    {
     "ename": "TypeError",
     "evalue": "append() takes exactly one argument (2 given)",
     "output_type": "error",
     "traceback": [
      "\u001b[0;31m---------------------------------------------------------------------------\u001b[0m",
      "\u001b[0;31mTypeError\u001b[0m                                 Traceback (most recent call last)",
      "\u001b[0;32m<ipython-input-3-4fc2dee2b037>\u001b[0m in \u001b[0;36m<module>\u001b[0;34m\u001b[0m\n\u001b[1;32m     23\u001b[0m         \u001b[0mw\u001b[0m \u001b[0;34m=\u001b[0m \u001b[0mnltk\u001b[0m\u001b[0;34m.\u001b[0m\u001b[0mword_tokenize\u001b[0m\u001b[0;34m(\u001b[0m\u001b[0mpattern\u001b[0m\u001b[0;34m)\u001b[0m\u001b[0;34m\u001b[0m\u001b[0;34m\u001b[0m\u001b[0m\n\u001b[1;32m     24\u001b[0m         \u001b[0mwords\u001b[0m\u001b[0;34m.\u001b[0m\u001b[0mextend\u001b[0m\u001b[0;34m(\u001b[0m\u001b[0mw\u001b[0m\u001b[0;34m)\u001b[0m\u001b[0;34m\u001b[0m\u001b[0;34m\u001b[0m\u001b[0m\n\u001b[0;32m---> 25\u001b[0;31m         \u001b[0mdocuments\u001b[0m\u001b[0;34m.\u001b[0m\u001b[0mappend\u001b[0m\u001b[0;34m(\u001b[0m\u001b[0mw\u001b[0m\u001b[0;34m,\u001b[0m \u001b[0mintent\u001b[0m\u001b[0;34m[\u001b[0m\u001b[0;34m'tag'\u001b[0m\u001b[0;34m]\u001b[0m\u001b[0;34m)\u001b[0m\u001b[0;34m\u001b[0m\u001b[0;34m\u001b[0m\u001b[0m\n\u001b[0m\u001b[1;32m     26\u001b[0m \u001b[0;34m\u001b[0m\u001b[0m\n\u001b[1;32m     27\u001b[0m         \u001b[0;32mif\u001b[0m \u001b[0mintent\u001b[0m\u001b[0;34m[\u001b[0m\u001b[0;34m'tag'\u001b[0m\u001b[0;34m]\u001b[0m \u001b[0;32mnot\u001b[0m \u001b[0;32min\u001b[0m \u001b[0mclasses\u001b[0m\u001b[0;34m:\u001b[0m\u001b[0;34m\u001b[0m\u001b[0;34m\u001b[0m\u001b[0m\n",
      "\u001b[0;31mTypeError\u001b[0m: append() takes exactly one argument (2 given)"
     ]
    }
   ],
   "source": [
    "\n",
    "\n",
    "\n",
    "\n",
    "\n",
    "\n",
    "\n",
    "\n",
    "\n",
    "\n",
    "\n",
    "print (len(documents), \"documents\")\n",
    "print (len(classes), \"classes\", classes)\n",
    "print (len(words), \"unique lemmatized words\", words)"
   ]
  },
  {
   "cell_type": "code",
   "execution_count": 1,
   "metadata": {},
   "outputs": [],
   "source": [
    "import nltk\n",
    "from nltk.stem import WordNetLemmatizer\n",
    "lemmatizer = WordNetLemmatizer()\n",
    "import json\n",
    "import pickle"
   ]
  },
  {
   "cell_type": "code",
   "execution_count": 3,
   "metadata": {},
   "outputs": [],
   "source": [
    "import numpy as np\n",
    "from keras.models import Sequential\n",
    "from keras.layers import Dense, Activation, Dropout\n",
    "# from keras.optimizers import SDG\n",
    "import random"
   ]
  },
  {
   "cell_type": "code",
   "execution_count": 11,
   "metadata": {},
   "outputs": [],
   "source": [
    "words = []\n",
    "classes = []\n",
    "documents = []\n",
    "ignore_words = ['?','!']\n",
    "data_file = open('intents.json','r')\n",
    "intents = json.load(data_file)"
   ]
  },
  {
   "cell_type": "code",
   "execution_count": 12,
   "metadata": {},
   "outputs": [],
   "source": [
    "\n",
    "for intent in intents['intents']:\n",
    "    for pattern in intent['patterns']:\n",
    "        w = nltk.word_tokenize(pattern)\n",
    "        words.extend(w)\n",
    "        documents.append((w, intent['tag']))\n",
    "\n",
    "        if intent['tag'] not in classes:\n",
    "            classes.append(intent['tag'])"
   ]
  },
  {
   "cell_type": "code",
   "execution_count": 14,
   "metadata": {},
   "outputs": [],
   "source": [
    "words = [lemmatizer.lemmatize(w.lower()) for w in words if w not in ignore_words]\n",
    "words = sorted(list(set(words)))\n",
    "classes = sorted(list(set(classes)))"
   ]
  },
  {
   "cell_type": "code",
   "execution_count": 9,
   "metadata": {},
   "outputs": [
    {
     "name": "stdout",
     "output_type": "stream",
     "text": [
      "47 documents\n",
      "9 classes ['adverse_drug', 'blood_pressure', 'blood_pressure_search', 'goodbye', 'greeting', 'hospital_search', 'options', 'pharmacy_search', 'thanks']\n",
      "88 unique lemmatized words [\"'s\", ',', 'a', 'adverse', 'all', 'anyone', 'are', 'awesome', 'be', 'behavior', 'blood', 'by', 'bye', 'can', 'causing', 'chatting', 'check', 'could', 'data', 'day', 'detail', 'do', 'dont', 'drug', 'entry', 'find', 'for', 'give', 'good', 'goodbye', 'have', 'hello', 'help', 'helpful', 'helping', 'hey', 'hi', 'history', 'hola', 'hospital', 'how', 'i', 'id', 'is', 'later', 'list', 'load', 'locate', 'log', 'looking', 'lookup', 'management', 'me', 'module', 'nearby', 'next', 'nice', 'of', 'offered', 'open', 'patient', 'pharmacy', 'pressure', 'provide', 'reaction', 'related', 'result', 'search', 'searching', 'see', 'show', 'suitable', 'support', 'task', 'thank', 'thanks', 'that', 'there', 'till', 'time', 'to', 'transfer', 'up', 'want', 'what', 'which', 'with', 'you']\n"
     ]
    }
   ],
   "source": [
    "print (len(documents), \"documents\")\n",
    "print (len(classes), \"classes\", classes)\n",
    "print (len(words), \"unique lemmatized words\", words)"
   ]
  },
  {
   "cell_type": "code",
   "execution_count": 17,
   "metadata": {},
   "outputs": [
    {
     "data": {
      "text/plain": [
       "[(['Hi', 'there'], 'greeting'),\n",
       " (['How', 'are', 'you'], 'greeting'),\n",
       " (['Is', 'anyone', 'there', '?'], 'greeting'),\n",
       " (['Hey'], 'greeting'),\n",
       " (['Hola'], 'greeting'),\n",
       " (['Hello'], 'greeting'),\n",
       " (['Good', 'day'], 'greeting'),\n",
       " (['Bye'], 'goodbye'),\n",
       " (['See', 'you', 'later'], 'goodbye'),\n",
       " (['Goodbye'], 'goodbye'),\n",
       " (['Nice', 'chatting', 'to', 'you', ',', 'bye'], 'goodbye'),\n",
       " (['Till', 'next', 'time'], 'goodbye'),\n",
       " (['Thanks'], 'thanks'),\n",
       " (['Thank', 'you'], 'thanks'),\n",
       " (['That', \"'s\", 'helpful'], 'thanks'),\n",
       " (['Awesome', ',', 'thanks'], 'thanks'),\n",
       " (['Thanks', 'for', 'helping', 'me'], 'thanks'),\n",
       " (['How', 'you', 'could', 'help', 'me', '?'], 'options'),\n",
       " (['What', 'you', 'can', 'do', '?'], 'options'),\n",
       " (['What', 'help', 'you', 'provide', '?'], 'options'),\n",
       " (['How', 'you', 'can', 'be', 'helpful', '?'], 'options'),\n",
       " (['What', 'support', 'is', 'offered'], 'options'),\n",
       " (['How', 'to', 'check', 'Adverse', 'drug', 'reaction', '?'], 'adverse_drug'),\n",
       " (['Open', 'adverse', 'drugs', 'module'], 'adverse_drug'),\n",
       " (['Give', 'me', 'a', 'list', 'of', 'drugs', 'causing', 'adverse', 'behavior'],\n",
       "  'adverse_drug'),\n",
       " (['List',\n",
       "   'all',\n",
       "   'drugs',\n",
       "   'suitable',\n",
       "   'for',\n",
       "   'patient',\n",
       "   'with',\n",
       "   'adverse',\n",
       "   'reaction'],\n",
       "  'adverse_drug'),\n",
       " (['Which', 'drugs', 'dont', 'have', 'adverse', 'reaction', '?'],\n",
       "  'adverse_drug'),\n",
       " (['Open', 'blood', 'pressure', 'module'], 'blood_pressure'),\n",
       " (['Task', 'related', 'to', 'blood', 'pressure'], 'blood_pressure'),\n",
       " (['Blood', 'pressure', 'data', 'entry'], 'blood_pressure'),\n",
       " (['I', 'want', 'to', 'log', 'blood', 'pressure', 'results'],\n",
       "  'blood_pressure'),\n",
       " (['Blood', 'pressure', 'data', 'management'], 'blood_pressure'),\n",
       " (['I',\n",
       "   'want',\n",
       "   'to',\n",
       "   'search',\n",
       "   'for',\n",
       "   'blood',\n",
       "   'pressure',\n",
       "   'result',\n",
       "   'history'],\n",
       "  'blood_pressure_search'),\n",
       " (['Blood', 'pressure', 'for', 'patient'], 'blood_pressure_search'),\n",
       " (['Load', 'patient', 'blood', 'pressure', 'result'], 'blood_pressure_search'),\n",
       " (['Show', 'blood', 'pressure', 'results', 'for', 'patient'],\n",
       "  'blood_pressure_search'),\n",
       " (['Find', 'blood', 'pressure', 'results', 'by', 'ID'],\n",
       "  'blood_pressure_search'),\n",
       " (['Find', 'me', 'a', 'pharmacy'], 'pharmacy_search'),\n",
       " (['Find', 'pharmacy'], 'pharmacy_search'),\n",
       " (['List', 'of', 'pharmacies', 'nearby'], 'pharmacy_search'),\n",
       " (['Locate', 'pharmacy'], 'pharmacy_search'),\n",
       " (['Search', 'pharmacy'], 'pharmacy_search'),\n",
       " (['Lookup', 'for', 'hospital'], 'hospital_search'),\n",
       " (['Searching', 'for', 'hospital', 'to', 'transfer', 'patient'],\n",
       "  'hospital_search'),\n",
       " (['I', 'want', 'to', 'search', 'hospital', 'data'], 'hospital_search'),\n",
       " (['Hospital', 'lookup', 'for', 'patient'], 'hospital_search'),\n",
       " (['Looking', 'up', 'hospital', 'details'], 'hospital_search')]"
      ]
     },
     "execution_count": 17,
     "metadata": {},
     "output_type": "execute_result"
    }
   ],
   "source": [
    "documents"
   ]
  },
  {
   "cell_type": "code",
   "execution_count": 23,
   "metadata": {},
   "outputs": [
    {
     "ename": "TypeError",
     "evalue": "unhashable type: 'list'",
     "output_type": "error",
     "traceback": [
      "\u001b[0;31m---------------------------------------------------------------------------\u001b[0m",
      "\u001b[0;31mTypeError\u001b[0m                                 Traceback (most recent call last)",
      "\u001b[0;32m<ipython-input-23-0b9579419e22>\u001b[0m in \u001b[0;36m<module>\u001b[0;34m\u001b[0m\n\u001b[1;32m      1\u001b[0m \u001b[0mx\u001b[0m \u001b[0;34m=\u001b[0m \u001b[0mdocuments\u001b[0m\u001b[0;34m[\u001b[0m\u001b[0;36m0\u001b[0m\u001b[0;34m]\u001b[0m\u001b[0;34m[\u001b[0m\u001b[0;36m0\u001b[0m\u001b[0;34m]\u001b[0m\u001b[0;34m\u001b[0m\u001b[0;34m\u001b[0m\u001b[0m\n\u001b[0;32m----> 2\u001b[0;31m \u001b[0mx\u001b[0m \u001b[0;34m=\u001b[0m \u001b[0mlemmatizer\u001b[0m\u001b[0;34m.\u001b[0m\u001b[0mlemmatize\u001b[0m\u001b[0;34m(\u001b[0m\u001b[0mx\u001b[0m\u001b[0;34m)\u001b[0m\u001b[0;34m\u001b[0m\u001b[0;34m\u001b[0m\u001b[0m\n\u001b[0m",
      "\u001b[0;32m~/anaconda3/lib/python3.7/site-packages/nltk/stem/wordnet.py\u001b[0m in \u001b[0;36mlemmatize\u001b[0;34m(self, word, pos)\u001b[0m\n\u001b[1;32m     39\u001b[0m \u001b[0;34m\u001b[0m\u001b[0m\n\u001b[1;32m     40\u001b[0m     \u001b[0;32mdef\u001b[0m \u001b[0mlemmatize\u001b[0m\u001b[0;34m(\u001b[0m\u001b[0mself\u001b[0m\u001b[0;34m,\u001b[0m \u001b[0mword\u001b[0m\u001b[0;34m,\u001b[0m \u001b[0mpos\u001b[0m\u001b[0;34m=\u001b[0m\u001b[0mNOUN\u001b[0m\u001b[0;34m)\u001b[0m\u001b[0;34m:\u001b[0m\u001b[0;34m\u001b[0m\u001b[0;34m\u001b[0m\u001b[0m\n\u001b[0;32m---> 41\u001b[0;31m         \u001b[0mlemmas\u001b[0m \u001b[0;34m=\u001b[0m \u001b[0mwordnet\u001b[0m\u001b[0;34m.\u001b[0m\u001b[0m_morphy\u001b[0m\u001b[0;34m(\u001b[0m\u001b[0mword\u001b[0m\u001b[0;34m,\u001b[0m \u001b[0mpos\u001b[0m\u001b[0;34m)\u001b[0m\u001b[0;34m\u001b[0m\u001b[0;34m\u001b[0m\u001b[0m\n\u001b[0m\u001b[1;32m     42\u001b[0m         \u001b[0;32mreturn\u001b[0m \u001b[0mmin\u001b[0m\u001b[0;34m(\u001b[0m\u001b[0mlemmas\u001b[0m\u001b[0;34m,\u001b[0m \u001b[0mkey\u001b[0m\u001b[0;34m=\u001b[0m\u001b[0mlen\u001b[0m\u001b[0;34m)\u001b[0m \u001b[0;32mif\u001b[0m \u001b[0mlemmas\u001b[0m \u001b[0;32melse\u001b[0m \u001b[0mword\u001b[0m\u001b[0;34m\u001b[0m\u001b[0;34m\u001b[0m\u001b[0m\n\u001b[1;32m     43\u001b[0m \u001b[0;34m\u001b[0m\u001b[0m\n",
      "\u001b[0;32m~/anaconda3/lib/python3.7/site-packages/nltk/corpus/reader/wordnet.py\u001b[0m in \u001b[0;36m_morphy\u001b[0;34m(self, form, pos, check_exceptions)\u001b[0m\n\u001b[1;32m   1903\u001b[0m         \u001b[0;31m# 0. Check the exception lists\u001b[0m\u001b[0;34m\u001b[0m\u001b[0;34m\u001b[0m\u001b[0;34m\u001b[0m\u001b[0m\n\u001b[1;32m   1904\u001b[0m         \u001b[0;32mif\u001b[0m \u001b[0mcheck_exceptions\u001b[0m\u001b[0;34m:\u001b[0m\u001b[0;34m\u001b[0m\u001b[0;34m\u001b[0m\u001b[0m\n\u001b[0;32m-> 1905\u001b[0;31m             \u001b[0;32mif\u001b[0m \u001b[0mform\u001b[0m \u001b[0;32min\u001b[0m \u001b[0mexceptions\u001b[0m\u001b[0;34m:\u001b[0m\u001b[0;34m\u001b[0m\u001b[0;34m\u001b[0m\u001b[0m\n\u001b[0m\u001b[1;32m   1906\u001b[0m                 \u001b[0;32mreturn\u001b[0m \u001b[0mfilter_forms\u001b[0m\u001b[0;34m(\u001b[0m\u001b[0;34m[\u001b[0m\u001b[0mform\u001b[0m\u001b[0;34m]\u001b[0m \u001b[0;34m+\u001b[0m \u001b[0mexceptions\u001b[0m\u001b[0;34m[\u001b[0m\u001b[0mform\u001b[0m\u001b[0;34m]\u001b[0m\u001b[0;34m)\u001b[0m\u001b[0;34m\u001b[0m\u001b[0;34m\u001b[0m\u001b[0m\n\u001b[1;32m   1907\u001b[0m \u001b[0;34m\u001b[0m\u001b[0m\n",
      "\u001b[0;31mTypeError\u001b[0m: unhashable type: 'list'"
     ]
    }
   ],
   "source": [
    "x = documents[0][0]\n",
    "x = lemmatizer.lemmatize(x)"
   ]
  },
  {
   "cell_type": "code",
   "execution_count": 32,
   "metadata": {},
   "outputs": [],
   "source": [
    "output_empty = [0] * len(classes)\n",
    "pat = []\n",
    "for doc in documents:\n",
    "    bag = []\n",
    "    pattern_words = doc[0]\n",
    "    # lemmatize each word - create base word, in attempt to represent related words\n",
    "#     pattern_words = [lemmatizer.lemmatize(word.lower()) for word in pattern_words]\n",
    "    pat.append(pattern_words)"
   ]
  },
  {
   "cell_type": "code",
   "execution_count": 33,
   "metadata": {},
   "outputs": [
    {
     "data": {
      "text/plain": [
       "[['Hi', 'there'],\n",
       " ['How', 'are', 'you'],\n",
       " ['Is', 'anyone', 'there', '?'],\n",
       " ['Hey'],\n",
       " ['Hola'],\n",
       " ['Hello'],\n",
       " ['Good', 'day'],\n",
       " ['Bye'],\n",
       " ['See', 'you', 'later'],\n",
       " ['Goodbye'],\n",
       " ['Nice', 'chatting', 'to', 'you', ',', 'bye'],\n",
       " ['Till', 'next', 'time'],\n",
       " ['Thanks'],\n",
       " ['Thank', 'you'],\n",
       " ['That', \"'s\", 'helpful'],\n",
       " ['Awesome', ',', 'thanks'],\n",
       " ['Thanks', 'for', 'helping', 'me'],\n",
       " ['How', 'you', 'could', 'help', 'me', '?'],\n",
       " ['What', 'you', 'can', 'do', '?'],\n",
       " ['What', 'help', 'you', 'provide', '?'],\n",
       " ['How', 'you', 'can', 'be', 'helpful', '?'],\n",
       " ['What', 'support', 'is', 'offered'],\n",
       " ['How', 'to', 'check', 'Adverse', 'drug', 'reaction', '?'],\n",
       " ['Open', 'adverse', 'drugs', 'module'],\n",
       " ['Give', 'me', 'a', 'list', 'of', 'drugs', 'causing', 'adverse', 'behavior'],\n",
       " ['List',\n",
       "  'all',\n",
       "  'drugs',\n",
       "  'suitable',\n",
       "  'for',\n",
       "  'patient',\n",
       "  'with',\n",
       "  'adverse',\n",
       "  'reaction'],\n",
       " ['Which', 'drugs', 'dont', 'have', 'adverse', 'reaction', '?'],\n",
       " ['Open', 'blood', 'pressure', 'module'],\n",
       " ['Task', 'related', 'to', 'blood', 'pressure'],\n",
       " ['Blood', 'pressure', 'data', 'entry'],\n",
       " ['I', 'want', 'to', 'log', 'blood', 'pressure', 'results'],\n",
       " ['Blood', 'pressure', 'data', 'management'],\n",
       " ['I',\n",
       "  'want',\n",
       "  'to',\n",
       "  'search',\n",
       "  'for',\n",
       "  'blood',\n",
       "  'pressure',\n",
       "  'result',\n",
       "  'history'],\n",
       " ['Blood', 'pressure', 'for', 'patient'],\n",
       " ['Load', 'patient', 'blood', 'pressure', 'result'],\n",
       " ['Show', 'blood', 'pressure', 'results', 'for', 'patient'],\n",
       " ['Find', 'blood', 'pressure', 'results', 'by', 'ID'],\n",
       " ['Find', 'me', 'a', 'pharmacy'],\n",
       " ['Find', 'pharmacy'],\n",
       " ['List', 'of', 'pharmacies', 'nearby'],\n",
       " ['Locate', 'pharmacy'],\n",
       " ['Search', 'pharmacy'],\n",
       " ['Lookup', 'for', 'hospital'],\n",
       " ['Searching', 'for', 'hospital', 'to', 'transfer', 'patient'],\n",
       " ['I', 'want', 'to', 'search', 'hospital', 'data'],\n",
       " ['Hospital', 'lookup', 'for', 'patient'],\n",
       " ['Looking', 'up', 'hospital', 'details']]"
      ]
     },
     "execution_count": 33,
     "metadata": {},
     "output_type": "execute_result"
    }
   ],
   "source": [
    "pat"
   ]
  },
  {
   "cell_type": "code",
   "execution_count": null,
   "metadata": {},
   "outputs": [],
   "source": []
  }
 ],
 "metadata": {
  "kernelspec": {
   "display_name": "Python 3",
   "language": "python",
   "name": "python3"
  },
  "language_info": {
   "codemirror_mode": {
    "name": "ipython",
    "version": 3
   },
   "file_extension": ".py",
   "mimetype": "text/x-python",
   "name": "python",
   "nbconvert_exporter": "python",
   "pygments_lexer": "ipython3",
   "version": "3.7.6"
  }
 },
 "nbformat": 4,
 "nbformat_minor": 4
}
